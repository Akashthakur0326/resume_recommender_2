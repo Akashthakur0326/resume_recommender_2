{
  "nbformat": 4,
  "nbformat_minor": 0,
  "metadata": {
    "colab": {
      "provenance": [],
      "authorship_tag": "ABX9TyO62m4EZrIuuzWnSlVOWd5x",
      "include_colab_link": true
    },
    "kernelspec": {
      "name": "python3",
      "display_name": "Python 3"
    },
    "language_info": {
      "name": "python"
    }
  },
  "cells": [
    {
      "cell_type": "markdown",
      "metadata": {
        "id": "view-in-github",
        "colab_type": "text"
      },
      "source": [
        "<a href=\"https://colab.research.google.com/github/Akashthakur0326/resume_recommender_2/blob/main/Rapid_api_linked_in_parser.ipynb\" target=\"_parent\"><img src=\"https://colab.research.google.com/assets/colab-badge.svg\" alt=\"Open In Colab\"/></a>"
      ]
    },
    {
      "cell_type": "code",
      "source": [
        "!pip install requests\n",
        "\n",
        "import requests"
      ],
      "metadata": {
        "colab": {
          "base_uri": "https://localhost:8080/"
        },
        "id": "7Tw95IMB-Iyj",
        "outputId": "412e4b62-da24-4229-f5b5-f4d5929ef783"
      },
      "execution_count": null,
      "outputs": [
        {
          "output_type": "stream",
          "name": "stdout",
          "text": [
            "Requirement already satisfied: requests in /usr/local/lib/python3.12/dist-packages (2.32.4)\n",
            "Requirement already satisfied: charset_normalizer<4,>=2 in /usr/local/lib/python3.12/dist-packages (from requests) (3.4.4)\n",
            "Requirement already satisfied: idna<4,>=2.5 in /usr/local/lib/python3.12/dist-packages (from requests) (3.11)\n",
            "Requirement already satisfied: urllib3<3,>=1.21.1 in /usr/local/lib/python3.12/dist-packages (from requests) (2.5.0)\n",
            "Requirement already satisfied: certifi>=2017.4.17 in /usr/local/lib/python3.12/dist-packages (from requests) (2025.10.5)\n"
          ]
        }
      ]
    },
    {
      "cell_type": "markdown",
      "source": [
        "https://rapidapi.com/fantastic-jobs-fantastic-jobs-default/api/linkedin-job-search-api/playground/apiendpoint_c71b5613-c2c4-480c-8830-d14b539fa6f3"
      ],
      "metadata": {
        "id": "Q-lZ8wl5-PCy"
      }
    },
    {
      "cell_type": "code",
      "execution_count": null,
      "metadata": {
        "colab": {
          "base_uri": "https://localhost:8080/"
        },
        "id": "9jw4sAxG97_a",
        "outputId": "31cba932-745b-4a19-a8c4-9831e5a7d6e0"
      },
      "outputs": [
        {
          "output_type": "stream",
          "name": "stdout",
          "text": [
            "Job Title: Web Developer Intern\n",
            "Company: UM IT PRIVATE LIMITED\n",
            "Location: ['India']\n",
            "Posted on: 2025-10-19T05:37:43.231\n",
            "Job URL: https://in.linkedin.com/jobs/view/web-developer-intern-at-um-it-private-limited-4316851801\n",
            "Description: Job Title: Web Developer Intern (Paid)\n",
            "Company: WebBoost Solutions by UM\n",
            "Location: Remote\n",
            "Duration: 3 months\n",
            "Employment Opportunity: Potential full-time role based on performance, with a Certificate of Internship.\n",
            "About WebBoost Solutions by UM\n",
            "WebBoost Solutions by UM provides students and graduates with practical learning opportunities and career growth in web development through real-world projects.\n",
            "Role Overview\n",
            "As a Full Stack Web Developer Intern, you will work on real-world projects, gain ...\n"
          ]
        }
      ],
      "source": [
        "# API endpoint\n",
        "url = \"https://linkedin-job-search-api.p.rapidapi.com/active-jb-7d\"\n",
        "\n",
        "querystring = {\n",
        "    \"limit\": \"1\",\n",
        "    \"offset\": \"0\",\n",
        "    \"title_filter\": '\"Web Developer\"',\n",
        "    \"location_filter\": '\"India\"',\n",
        "    \"description_type\": \"text\"\n",
        "}\n",
        "\n",
        "headers = {\n",
        "    \"x-rapidapi-key\": \"20d5232a2emsh0ac427483fcc835p1b0801jsnc6141374df6a\",\n",
        "    \"x-rapidapi-host\": \"linkedin-job-search-api.p.rapidapi.com\"\n",
        "}\n",
        "\n",
        "response = requests.get(url, headers=headers, params=querystring)\n",
        "\n",
        "if response.status_code == 200:\n",
        "    data = response.json()\n",
        "    if len(data) > 0:\n",
        "        job = data[0]  # get the first job\n",
        "        print(\"Job Title:\", job.get(\"title\"))\n",
        "        print(\"Company:\", job.get(\"organization\"))\n",
        "        print(\"Location:\", job.get(\"locations_derived\"))\n",
        "        print(\"Posted on:\", job.get(\"date_posted\"))\n",
        "        print(\"Job URL:\", job.get(\"url\"))\n",
        "        print(\"Description:\", job.get(\"description_text\")[:500], \"...\")  # first 500 chars\n",
        "    else:\n",
        "        print(\"No jobs found for this query.\")\n",
        "else:\n",
        "    print(\"Request failed with status:\", response.status_code)\n",
        "    print(response.text)\n"
      ]
    }
  ]
}